{
 "cells": [
  {
   "cell_type": "code",
   "execution_count": 1,
   "metadata": {},
   "outputs": [],
   "source": [
    "import numpy as np\n",
    "from scipy.integrate import solve_ivp"
   ]
  },
  {
   "cell_type": "code",
   "execution_count": null,
   "metadata": {},
   "outputs": [],
   "source": [
    "def dV(V, Gca, I=1, Eca=1, C=1):\n",
    "    return (I-Gca*(V - Eca))/C\n",
    "\n",
    "def dcAMP(cAMP, V, kpc=1, Vthresh=1, kdc=1):\n",
    "    return kpc * np.heaviside(V - Vthresh, 0.5) - kdc * cAMP # use 0.5 as middle value for heaviside?\n",
    "\n",
    "def dpkAa(pkAa, cAMP, k1=1, pkAd=1, kdp=1):\n",
    "    return k1 * pkAd * cAMP - kdp * pkAa\n",
    "\n",
    "def dMAPkP1(MAPkP1, pkAa, k2=1, MAPk=1, kdm=1):\n",
    "    return k2 * MAPk * pkAa - kdm * MAPkP1\n",
    "\n",
    "def dCREB2a(MAPkP1, CREB1a=1, k3=1, CREB1d=1, a=1, b=1):\n",
    "    return k3 * MAPkP1 * CREB1d - (a + CREB1a)/(b + CREB1a) #CREB1a vs CREB2a? Hard to tell with handwriting\n",
    "\n",
    "def dGca(CREB2a):\n",
    "    return np.tanh(CREB2a)\n",
    "\n",
    "def rate_equation(t, y):\n",
    "\n",
    "    dy = np.zeros(len(y))\n",
    "\n",
    "    dy[0] = dV(y[0], y[5])\n",
    "    dy[1] = dcAMP(y[1], y[0])\n",
    "    dy[2] = dpkAa(y[2], y[1])\n",
    "    dy[3] = dMAPkP1(y[3], y[2])\n",
    "    dy[4] = dCREB2a(y[3])\n",
    "    dy[5] = dGca(y[4])\n",
    "\n",
    "    return dy\n",
    "\n",
    "\n",
    "\n",
    "\n",
    "\n",
    "\n",
    "   \n",
    "    \n",
    "    \n"
   ]
  }
 ],
 "metadata": {
  "kernelspec": {
   "display_name": "Python 3",
   "language": "python",
   "name": "python3"
  },
  "language_info": {
   "codemirror_mode": {
    "name": "ipython",
    "version": 3
   },
   "file_extension": ".py",
   "mimetype": "text/x-python",
   "name": "python",
   "nbconvert_exporter": "python",
   "pygments_lexer": "ipython3",
   "version": "3.13.0"
  }
 },
 "nbformat": 4,
 "nbformat_minor": 2
}
